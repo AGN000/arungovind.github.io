{
 "cells": [
  {
   "cell_type": "code",
   "execution_count": 1,
   "id": "ce93297a-8d40-41e4-8ffa-698d097dae04",
   "metadata": {
    "tags": []
   },
   "outputs": [
    {
     "name": "stdout",
     "output_type": "stream",
     "text": [
      "assets/img/\n",
      "[480, 800, 1400]\n",
      "('assets/img/**/*.jpg', 'assets/img/**/*.jpeg', 'assets/img/**/*.png', 'assets/img/**/*.tiff')\n"
     ]
    }
   ],
   "source": [
    "import yaml\n",
    "\n",
    "with open(r'_config.yml') as file:\n",
    "    # The FullLoader parameter handles the conversion from YAML\n",
    "    # scalar values to Python the dictionary format\n",
    "    data = yaml.load(file, Loader=yaml.FullLoader)\n",
    "    \n",
    "    _path = data['imagemagick']['input_directories'][0]\n",
    "    print(_path)\n",
    "    widths = data['imagemagick']['widths']\n",
    "    print(widths)\n",
    "    types = data['imagemagick']['input_formats']\n",
    "    types = tuple([_path + '**/*' + _type for _type in types])\n",
    "    print(types)"
   ]
  },
  {
   "cell_type": "code",
   "execution_count": 3,
   "id": "c62cd1ad-c2b6-41bc-8204-7a7e2f3fe14f",
   "metadata": {},
   "outputs": [
    {
     "name": "stdout",
     "output_type": "stream",
     "text": [
      "['assets/img\\\\10.jpg', 'assets/img\\\\11.jpg', 'assets/img\\\\12.jpg', 'assets/img\\\\2.jpg', 'assets/img\\\\3.jpg', 'assets/img\\\\4.jpg', 'assets/img\\\\5.jpg', 'assets/img\\\\6.jpg', 'assets/img\\\\7.jpg', 'assets/img\\\\8.jpg', 'assets/img\\\\9.jpg', 'assets/img\\\\license_plate\\\\thumbnail.jpg', 'assets/img\\\\prof_pic.jpeg', 'assets/img\\\\al-folio-preview.png', 'assets/img\\\\avatar.png', 'assets/img\\\\code-screenshot.png', 'assets/img\\\\distill-screenshot.png', 'assets/img\\\\math-screenshot.png', 'assets/img\\\\photos-screenshot.png', 'assets/img\\\\projects-screenshot.png', 'assets/img\\\\publications-screenshot.png', 'assets/img\\\\license_plate\\\\recognize1.png', 'assets/img\\\\license_plate\\\\recognize2.png']\n"
     ]
    }
   ],
   "source": [
    "# get all files to resize\n",
    "import glob\n",
    "\n",
    "files_grabbed = []\n",
    "for files in types:\n",
    "    files_grabbed.extend(glob.glob(files, recursive=True))\n",
    "    \n",
    "print(files_grabbed)"
   ]
  },
  {
   "cell_type": "code",
   "execution_count": 14,
   "id": "edcfb3b1-6d93-40b1-add1-e4de6620cb54",
   "metadata": {},
   "outputs": [],
   "source": [
    "import os\n",
    "from wand.image import Image\n",
    "\n",
    "def resize(input_file, width):\n",
    "    # Read image using Image function\n",
    "    with Image(filename =input_file) as img:\n",
    "\n",
    "        # using transform() function\n",
    "        img.transform(resize = str(width)+'x')\n",
    "\n",
    "        # Saving image\n",
    "        parentname = os.path.splitext(input_file)[0]\n",
    "        img.save(filename='{}-{}.webp'.format(parentname, str(width)))"
   ]
  },
  {
   "cell_type": "code",
   "execution_count": 15,
   "id": "7d3cbc53-e988-4d26-a6c5-a0be3b34096d",
   "metadata": {},
   "outputs": [],
   "source": [
    "for image in files_grabbed:\n",
    "    for width in widths:\n",
    "        resize(image, width)"
   ]
  },
  {
   "cell_type": "markdown",
   "id": "83f264ab-9d0b-4abf-9f77-ac292462c3cf",
   "metadata": {},
   "source": [
    "# Remove all .webp files"
   ]
  },
  {
   "cell_type": "code",
   "execution_count": 2,
   "id": "5c54c651-6bb2-4a11-be41-ef34682b0107",
   "metadata": {},
   "outputs": [
    {
     "name": "stderr",
     "output_type": "stream",
     "text": [
      "100%|████████████████████████████████████████████████████████████████████████████████| 69/69 [00:00<00:00, 3449.92it/s]\n"
     ]
    }
   ],
   "source": [
    "import glob, os\n",
    "from tqdm import tqdm\n",
    "\n",
    "for item in tqdm(glob.glob(_path+'**/*.webp', recursive=True)):\n",
    "    os.remove(item)"
   ]
  },
  {
   "cell_type": "code",
   "execution_count": null,
   "id": "d5ddf949-9e8f-469f-811b-7029fd6f7161",
   "metadata": {},
   "outputs": [],
   "source": []
  }
 ],
 "metadata": {
  "kernelspec": {
   "display_name": "Python 3 (ipykernel)",
   "language": "python",
   "name": "python3"
  },
  "language_info": {
   "codemirror_mode": {
    "name": "ipython",
    "version": 3
   },
   "file_extension": ".py",
   "mimetype": "text/x-python",
   "name": "python",
   "nbconvert_exporter": "python",
   "pygments_lexer": "ipython3",
   "version": "3.9.7"
  }
 },
 "nbformat": 4,
 "nbformat_minor": 5
}
