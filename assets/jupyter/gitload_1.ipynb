{
 "cells": [
  {
   "cell_type": "code",
   "execution_count": 1,
   "metadata": {},
   "outputs": [],
   "source": [
    "import os\n",
    "from langchain.chains import RetrievalQA\n",
    "from langchain.text_splitter import RecursiveCharacterTextSplitter\n",
    "from langchain_community.document_loaders import GitLoader\n",
    "from langchain.vectorstores.faiss import FAISS\n",
    "from langchain_openai import ChatOpenAI\n",
    "from langchain_community.embeddings import SentenceTransformerEmbeddings"
   ]
  },
  {
   "cell_type": "code",
   "execution_count": 2,
   "metadata": {},
   "outputs": [],
   "source": [
    "llm = ChatOpenAI(\n",
    "    base_url=\"http://host.docker.internal:1234/v1\",\n",
    "    api_key=\"lm-studio\",\n",
    "    temperature=0.6\n",
    ")\n",
    "\n",
    "transformer_path = \"./faiss\"\n",
    "\n",
    "clone_url = \"https://github.com/habeeb3579/interval-model-estimator\"\n",
    "\n",
    "if not os.path.exists(transformer_path):\n",
    "    loader = GitLoader(\n",
    "            clone_url=clone_url,\n",
    "            repo_path=\"./docs/url\",\n",
    "            branch=\"master\"\n",
    "        )\n",
    "    raw_documents = loader.load()"
   ]
  },
  {
   "cell_type": "code",
   "execution_count": 3,
   "metadata": {},
   "outputs": [
    {
     "data": {
      "text/plain": [
       "Document(page_content='utils/__init__.py\\n.env\\n', metadata={'source': '.gitignore', 'file_path': '.gitignore', 'file_name': '.gitignore', 'file_type': ''})"
      ]
     },
     "execution_count": 3,
     "metadata": {},
     "output_type": "execute_result"
    }
   ],
   "source": [
    "raw_documents[0]"
   ]
  }
 ],
 "metadata": {
  "kernelspec": {
   "display_name": "langchain",
   "language": "python",
   "name": "langchain"
  },
  "language_info": {
   "codemirror_mode": {
    "name": "ipython",
    "version": 3
   },
   "file_extension": ".py",
   "mimetype": "text/x-python",
   "name": "python",
   "nbconvert_exporter": "python",
   "pygments_lexer": "ipython3",
   "version": "3.10.10"
  }
 },
 "nbformat": 4,
 "nbformat_minor": 2
}
