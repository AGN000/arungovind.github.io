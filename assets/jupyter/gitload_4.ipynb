{
 "cells": [
  {
   "cell_type": "code",
   "execution_count": null,
   "metadata": {},
   "outputs": [],
   "source": [
    "import streamlit as st\n",
    "from typing import Optional\n",
    "from load_ingest import ingest_docs, load_documents\n",
    "\n",
    "st.title(\"Github Chat\")\n",
    "\n",
    "# Input field for the clone URL\n",
    "clone_url: Optional[str] = st.text_input(\"Enter the Git repository clone URL:\")\n",
    "\n",
    "# Text input field for the question\n",
    "question: Optional[str] = st.text_input(\"Ask your question here:\")\n",
    "\n",
    "# Button to trigger the query\n",
    "if st.button(\"Get Answer\"):\n",
    "    if question or clone_url:\n",
    "        st.write(\"Loading...\")\n",
    "        documents = load_documents(clone_url)\n",
    "        st.write(\"Loading documents\")\n",
    "        answer: str = ingest_docs(question, documents)\n",
    "        st.write(\"Answer:\", answer)\n",
    "    else:\n",
    "        st.write(\"Please enter a question.\")"
   ]
  }
 ],
 "metadata": {
  "kernelspec": {
   "display_name": "langchain",
   "language": "python",
   "name": "langchain"
  },
  "language_info": {
   "codemirror_mode": {
    "name": "ipython",
    "version": 3
   },
   "file_extension": ".py",
   "mimetype": "text/x-python",
   "name": "python",
   "nbconvert_exporter": "python",
   "pygments_lexer": "ipython3",
   "version": "3.10.10"
  }
 },
 "nbformat": 4,
 "nbformat_minor": 2
}
